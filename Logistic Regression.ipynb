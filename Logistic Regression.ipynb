{
 "cells": [
  {
   "cell_type": "code",
   "execution_count": 51,
   "metadata": {},
   "outputs": [],
   "source": [
    "#Author: Walter Nam\n",
    "import numpy as np\n",
    "from numpy import array\n",
    "import matplotlib.pyplot as plt"
   ]
  },
  {
   "cell_type": "code",
   "execution_count": 52,
   "metadata": {},
   "outputs": [],
   "source": [
    "class Data:\n",
    "    \n",
    "    def __init__(self, x_matrix, y):\n",
    "        self.x_matrix = x_matrix\n",
    "        self.y = y\n",
    "    \n",
    "    def add_bias(self, x_matrix):\n",
    "        intercept = np.ones((x_matrix.shape[0], 1))\n",
    "        return np.concatenate((intercept, x_matrix), axis=1)\n",
    "    \n",
    "    def polynomial_phi(self, x1, x2, degree):\n",
    "        j = 0\n",
    "        feature_list = []\n",
    "        for i in range(1, degree + 1):\n",
    "            for j in range(0, i + 1):\n",
    "                feature_list.append(((x1**(i - j))*(x2**j)))\n",
    "        return feature_list\n",
    "        \n",
    "    # data cannot be linearly classfied\n",
    "    def plot_scatter(self, X, y):\n",
    "        plt.figure(figsize=(10, 6))\n",
    "        plt.scatter(X[y == 0][:, 0], X[y == 0][:, 1], color='b', label='0')\n",
    "        plt.scatter(X[y == 1][:, 0], X[y == 1][:, 1], color='r', label='1')\n",
    "        plt.legend();\n",
    "        plt.show()\n",
    "    \n",
    "    # 1/(1 + exp(b0 + b1x1 + b2x2))\n",
    "    def sigmoid(self, weighted_sum):\n",
    "        return 1 / (1 + np.exp(-weighted_sum))\n",
    "    \n",
    "    # cross entropy loss function\n",
    "    def cross_entropy(self, p, y):\n",
    "        return (-y * np.log(p) - (1 - y) * np.log(1 - p)).mean()\n",
    "    \n",
    "    def batch_gradient_descent(self, phi, y, loss_array, eta, pmax):\n",
    "        w0 = np.zeros(phi.shape[1])  # weights initialization\n",
    "        for i in range(pmax): #optimizing the weights\n",
    "            weighted_sum = np.dot(phi, w0)\n",
    "            p = self.sigmoid(weighted_sum)\n",
    "            gradient = np.dot(phi.T, (p - y)) / y.size \n",
    "            w0 -= eta * gradient\n",
    "            weighted_sum = np.dot(phi, w0)\n",
    "            p = self.sigmoid(weighted_sum)\n",
    "            loss = self.cross_entropy(p, y)\n",
    "            loss_array.append(loss)\n",
    "        return loss_array, w0\n",
    "    \n",
    "    def regularized_gradient_descent(self, phi, y, loss_array, penalty, eta, pmax):\n",
    "        w0 = np.zeros(phi.shape[1])  # weights initialization\n",
    "        N = phi.shape[0]\n",
    "        for i in range(pmax): #optimizing the weights\n",
    "            weighted_sum = np.dot(phi, w0)\n",
    "            p = self.sigmoid(weighted_sum)\n",
    "            gradient = np.dot(phi.T, (p - y)) / y.size \n",
    "            w0 -= eta * gradient + (penalty/N)*w0\n",
    "            reg_term = (penalty/2*N) * np.sum(np.matmul(w0[1:].T, w0[1:]))\n",
    "            loss = self.cross_entropy(p, y) - reg_term\n",
    "            loss_array.append(loss)\n",
    "        return loss_array, w0\n",
    "    \n",
    "    def entropy_plot(self, loss_array, pmax):\n",
    "        # plotting cross-entropy loss vs iterations\n",
    "        x_range = range(1, pmax + 1)\n",
    "        plt.plot(x_range, loss_array)\n",
    "        plt.xlabel('# iterations')\n",
    "        plt.ylabel('Cross-Entropy')\n",
    "        plt.title('BGD Cost vs Pmax = 'f'{pmax}')\n",
    "        \n",
    "    def training_accuracy(self, phi, weights):\n",
    "        weighted_sum = np.dot(phi, weights)\n",
    "        p = self.sigmoid(weighted_sum)\n",
    "        probability_list = []\n",
    "        num_correct = 0\n",
    "        for p in p:\n",
    "            if p >= 0.50:\n",
    "                probability_list.append(1)\n",
    "                num_correct += 1\n",
    "            else: \n",
    "                probability_list.append(0)\n",
    "        print(\"Training Accuracy %\")\n",
    "        return num_correct/len(phi)"
   ]
  },
  {
   "cell_type": "code",
   "execution_count": 53,
   "metadata": {},
   "outputs": [],
   "source": [
    "# load dataset\n",
    "data = np.genfromtxt('data2.txt', delimiter = ',')\n",
    "x_matrix =  data[:, :2]\n",
    "y = data[:,2]\n",
    "\n",
    "# create new Data object\n",
    "model = Data(x_matrix, y)\n",
    "phi = model.add_bias(model.x_matrix)\n",
    "y = model.y\n",
    "eta = 0.08\n",
    "pmax = 10000\n",
    "#model.plot_scatter(x_matrix, y)"
   ]
  },
  {
   "cell_type": "code",
   "execution_count": 54,
   "metadata": {},
   "outputs": [
    {
     "name": "stdout",
     "output_type": "stream",
     "text": [
      "Optimized Weights\n",
      "[-0.01418412 -0.30352113 -0.01813178]\n",
      "Training Accuracy %\n",
      "0.4661016949152542\n"
     ]
    },
    {
     "data": {
      "image/png": "[encoded data removed]",
      "text/plain": [
       "<Figure size 432x288 with 1 Axes>"
      ]
     },
     "metadata": {
      "needs_background": "light"
     },
     "output_type": "display_data"
    }
   ],
   "source": [
    "# plotting cross entropy vs iteration\n",
    "loss_array = []\n",
    "model.batch_gradient_descent(phi, y, loss_array, eta, pmax)\n",
    "model.entropy_plot(loss_array, pmax)\n",
    "\n",
    "optimized_weights = model.batch_gradient_descent(phi, y, loss_array, eta, pmax)[1]\n",
    "print(\"Optimized Weights\")\n",
    "print(optimized_weights)\n",
    "print(model.training_accuracy(phi, optimized_weights))"
   ]
  },
  {
   "cell_type": "code",
   "execution_count": 55,
   "metadata": {},
   "outputs": [
    {
     "name": "stdout",
     "output_type": "stream",
     "text": [
      "Optimized weights\n",
      "[ 3.08101957  2.18211427  3.37749821 -4.84598615 -3.77281592 -4.5387385\n",
      "  0.9260902  -1.41702817 -0.99985434 -0.27833977 -3.88941225  0.13429054\n",
      " -2.01423614 -1.38504729 -3.20164094 -0.54335066 -0.68891616  0.2714723\n",
      " -1.13974623 -1.34124711 -0.4028616  -3.02579645  0.27780377 -0.90783299\n",
      "  0.20963601 -1.17268813 -0.97637599 -1.78427397]\n",
      "Training Accuracy %\n",
      "0.5169491525423728\n"
     ]
    },
    {
     "data": {
      "image/png": "[encoded data removed]",
      "text/plain": [
       "<Figure size 432x288 with 1 Axes>"
      ]
     },
     "metadata": {
      "needs_background": "light"
     },
     "output_type": "display_data"
    }
   ],
   "source": [
    "# Non-linear mapping logistic regression\n",
    "x1 = data[:,0]\n",
    "x2 = data[:,1]\n",
    "bias = np.array([np.ones(118)])\n",
    "degree = 6\n",
    "\n",
    "\n",
    "# 28 x 118 matrix (27 + bias)\n",
    "features = np.asarray(model.polynomial_phi(x1, x2, degree))\n",
    "poly_phi = np.concatenate((bias, features), axis = 0).transpose()\n",
    "\n",
    "# gradient descent with high dimensional phi\n",
    "poly_loss_array = []\n",
    "penalty = 0\n",
    "model.regularized_gradient_descent(poly_phi, y, poly_loss_array, penalty, eta, pmax)\n",
    "model.entropy_plot(poly_loss_array, pmax)\n",
    "\n",
    "poly_optimized_weights = model.regularized_gradient_descent(poly_phi, y, poly_loss_array, penalty, eta, pmax)[1]\n",
    "print(\"Optimized weights\")\n",
    "print(poly_optimized_weights)\n",
    "print(model.training_accuracy(poly_phi, poly_optimized_weights))"
   ]
  }
 ],
 "metadata": {
  "kernelspec": {
   "display_name": "Python 3",
   "language": "python",
   "name": "python3"
  },
  "language_info": {
   "codemirror_mode": {
    "name": "ipython",
    "version": 3
   },
   "file_extension": ".py",
   "mimetype": "text/x-python",
   "name": "python",
   "nbconvert_exporter": "python",
   "pygments_lexer": "ipython3",
   "version": "3.7.3"
  }
 },
 "nbformat": 4,
 "nbformat_minor": 2
}
